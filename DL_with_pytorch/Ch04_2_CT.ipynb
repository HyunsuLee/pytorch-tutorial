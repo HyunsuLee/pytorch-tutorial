{
 "cells": [
  {
   "cell_type": "markdown",
   "metadata": {},
   "source": [
    "# Chapter 4, part2 CT 이미지 "
   ]
  },
  {
   "cell_type": "code",
   "execution_count": 3,
   "metadata": {},
   "outputs": [],
   "source": [
    "import numpy as np\n",
    "import torch\n",
    "torch.set_printoptions(edgeitems=2, threshold=50)\n",
    "import imageio\n"
   ]
  },
  {
   "cell_type": "code",
   "execution_count": 6,
   "metadata": {},
   "outputs": [
    {
     "ename": "RuntimeError",
     "evalue": "`DICOM` can not handle the given uri.",
     "output_type": "error",
     "traceback": [
      "\u001b[0;31m---------------------------------------------------------------------------\u001b[0m",
      "\u001b[0;31mInitializationError\u001b[0m                       Traceback (most recent call last)",
      "File \u001b[0;32m~/anaconda3/envs/th1p12/lib/python3.8/site-packages/imageio/core/imopen.py:147\u001b[0m, in \u001b[0;36mimopen\u001b[0;34m(uri, io_mode, plugin, extension, format_hint, legacy_mode, **kwargs)\u001b[0m\n\u001b[1;32m    146\u001b[0m \u001b[39mtry\u001b[39;00m:\n\u001b[0;32m--> 147\u001b[0m     \u001b[39mreturn\u001b[39;00m loader(request, \u001b[39m*\u001b[39;49m\u001b[39m*\u001b[39;49mkwargs)\n\u001b[1;32m    148\u001b[0m \u001b[39mexcept\u001b[39;00m InitializationError \u001b[39mas\u001b[39;00m class_specific:\n",
      "File \u001b[0;32m~/anaconda3/envs/th1p12/lib/python3.8/site-packages/imageio/core/imopen.py:135\u001b[0m, in \u001b[0;36mimopen.<locals>.loader\u001b[0;34m(request, **kwargs)\u001b[0m\n\u001b[1;32m    134\u001b[0m \u001b[39mdef\u001b[39;00m \u001b[39mloader\u001b[39m(request, \u001b[39m*\u001b[39m\u001b[39m*\u001b[39mkwargs):\n\u001b[0;32m--> 135\u001b[0m     \u001b[39mreturn\u001b[39;00m config\u001b[39m.\u001b[39;49mplugin_class(request, \u001b[39m*\u001b[39;49m\u001b[39m*\u001b[39;49mkwargs)\n",
      "File \u001b[0;32m~/anaconda3/envs/th1p12/lib/python3.8/site-packages/imageio/config/plugins.py:107\u001b[0m, in \u001b[0;36mPluginConfig.plugin_class.<locals>.partial_legacy_plugin\u001b[0;34m(request)\u001b[0m\n\u001b[1;32m    106\u001b[0m \u001b[39mdef\u001b[39;00m \u001b[39mpartial_legacy_plugin\u001b[39m(request):\n\u001b[0;32m--> 107\u001b[0m     \u001b[39mreturn\u001b[39;00m LegacyPlugin(request, legacy_plugin)\n",
      "File \u001b[0;32m~/anaconda3/envs/th1p12/lib/python3.8/site-packages/imageio/core/legacy_plugin_wrapper.py:79\u001b[0m, in \u001b[0;36mLegacyPlugin.__init__\u001b[0;34m(self, request, legacy_plugin)\u001b[0m\n\u001b[1;32m     78\u001b[0m     \u001b[39mif\u001b[39;00m \u001b[39mnot\u001b[39;00m \u001b[39mself\u001b[39m\u001b[39m.\u001b[39m_format\u001b[39m.\u001b[39mcan_read(request):\n\u001b[0;32m---> 79\u001b[0m         \u001b[39mraise\u001b[39;00m InitializationError(\n\u001b[1;32m     80\u001b[0m             \u001b[39mf\u001b[39m\u001b[39m\"\u001b[39m\u001b[39m`\u001b[39m\u001b[39m{\u001b[39;00m\u001b[39mself\u001b[39m\u001b[39m.\u001b[39m_format\u001b[39m.\u001b[39mname\u001b[39m}\u001b[39;00m\u001b[39m`\u001b[39m\u001b[39m\"\u001b[39m \u001b[39mf\u001b[39m\u001b[39m\"\u001b[39m\u001b[39m can not read `\u001b[39m\u001b[39m{\u001b[39;00msource\u001b[39m}\u001b[39;00m\u001b[39m`.\u001b[39m\u001b[39m\"\u001b[39m\n\u001b[1;32m     81\u001b[0m         )\n\u001b[1;32m     82\u001b[0m \u001b[39melse\u001b[39;00m:\n",
      "\u001b[0;31mInitializationError\u001b[0m: `DICOM` can not read `https://github.com/deep-learning-with-pytorch/dlwpt-code/blob/master/data/p1ch4/volumetric-dicom/2-LUNG%203.0%20%20B70f-04083`.",
      "\nThe above exception was the direct cause of the following exception:\n",
      "\u001b[0;31mRuntimeError\u001b[0m                              Traceback (most recent call last)",
      "\u001b[1;32m/home/hyunsu/Documents/GitHub/pytorch-tutorial/DL_with_pytorch/Ch04_2_CT.ipynb Cell 3\u001b[0m in \u001b[0;36m<cell line: 2>\u001b[0;34m()\u001b[0m\n\u001b[1;32m      <a href='vscode-notebook-cell://ssh-remote%2Bubuntu223/home/hyunsu/Documents/GitHub/pytorch-tutorial/DL_with_pytorch/Ch04_2_CT.ipynb#ch0000006vscode-remote?line=0'>1</a>\u001b[0m dir_path \u001b[39m=\u001b[39m \u001b[39m\"\u001b[39m\u001b[39mhttps://github.com/deep-learning-with-pytorch/dlwpt-code/blob/master/data/p1ch4/volumetric-dicom/2-LUNG\u001b[39m\u001b[39m%203.0%\u001b[39;00m\u001b[39m20\u001b[39m\u001b[39m%\u001b[39m\u001b[39m20B70f-04083\u001b[39m\u001b[39m\"\u001b[39m\n\u001b[0;32m----> <a href='vscode-notebook-cell://ssh-remote%2Bubuntu223/home/hyunsu/Documents/GitHub/pytorch-tutorial/DL_with_pytorch/Ch04_2_CT.ipynb#ch0000006vscode-remote?line=1'>2</a>\u001b[0m vol_arr \u001b[39m=\u001b[39m imageio\u001b[39m.\u001b[39;49mvolread(dir_path, \u001b[39m'\u001b[39;49m\u001b[39mDICOM\u001b[39;49m\u001b[39m'\u001b[39;49m)\n\u001b[1;32m      <a href='vscode-notebook-cell://ssh-remote%2Bubuntu223/home/hyunsu/Documents/GitHub/pytorch-tutorial/DL_with_pytorch/Ch04_2_CT.ipynb#ch0000006vscode-remote?line=2'>3</a>\u001b[0m vol_arr\u001b[39m.\u001b[39mshape\n",
      "File \u001b[0;32m~/anaconda3/envs/th1p12/lib/python3.8/site-packages/imageio/v2.py:358\u001b[0m, in \u001b[0;36mvolread\u001b[0;34m(uri, format, **kwargs)\u001b[0m\n\u001b[1;32m    356\u001b[0m imopen_args \u001b[39m=\u001b[39m decypher_format_arg(\u001b[39mformat\u001b[39m)\n\u001b[1;32m    357\u001b[0m imopen_args[\u001b[39m\"\u001b[39m\u001b[39mlegacy_mode\u001b[39m\u001b[39m\"\u001b[39m] \u001b[39m=\u001b[39m \u001b[39mTrue\u001b[39;00m\n\u001b[0;32m--> 358\u001b[0m \u001b[39mwith\u001b[39;00m imopen(uri, \u001b[39m\"\u001b[39;49m\u001b[39mrv\u001b[39;49m\u001b[39m\"\u001b[39;49m, \u001b[39m*\u001b[39;49m\u001b[39m*\u001b[39;49mimopen_args) \u001b[39mas\u001b[39;00m file:\n\u001b[1;32m    359\u001b[0m     \u001b[39mreturn\u001b[39;00m file\u001b[39m.\u001b[39mread(index\u001b[39m=\u001b[39m\u001b[39m0\u001b[39m, \u001b[39m*\u001b[39m\u001b[39m*\u001b[39mkwargs)\n",
      "File \u001b[0;32m~/anaconda3/envs/th1p12/lib/python3.8/site-packages/imageio/core/imopen.py:165\u001b[0m, in \u001b[0;36mimopen\u001b[0;34m(uri, io_mode, plugin, extension, format_hint, legacy_mode, **kwargs)\u001b[0m\n\u001b[1;32m    162\u001b[0m         err_msg \u001b[39m=\u001b[39m \u001b[39mf\u001b[39m\u001b[39m\"\u001b[39m\u001b[39mAn unknown error occured while initializing plugin `\u001b[39m\u001b[39m{\u001b[39;00mplugin\u001b[39m}\u001b[39;00m\u001b[39m`.\u001b[39m\u001b[39m\"\u001b[39m\n\u001b[1;32m    164\u001b[0m     request\u001b[39m.\u001b[39mfinish()\n\u001b[0;32m--> 165\u001b[0m     \u001b[39mraise\u001b[39;00m err_type(err_msg) \u001b[39mfrom\u001b[39;00m \u001b[39merr_from\u001b[39;00m\n\u001b[1;32m    167\u001b[0m \u001b[39m# fast-path based on format_hint\u001b[39;00m\n\u001b[1;32m    168\u001b[0m \u001b[39mif\u001b[39;00m request\u001b[39m.\u001b[39mformat_hint \u001b[39mis\u001b[39;00m \u001b[39mnot\u001b[39;00m \u001b[39mNone\u001b[39;00m:\n",
      "\u001b[0;31mRuntimeError\u001b[0m: `DICOM` can not handle the given uri."
     ]
    }
   ],
   "source": [
    "dir_path = \"https://github.com/deep-learning-with-pytorch/dlwpt-code/blob/master/data/p1ch4/volumetric-dicom/2-LUNG%203.0%20%20B70f-04083\"\n",
    "vol_arr = imageio.volread(dir_path, 'DICOM')\n",
    "vol_arr.shape"
   ]
  },
  {
   "cell_type": "code",
   "execution_count": null,
   "metadata": {},
   "outputs": [],
   "source": []
  },
  {
   "cell_type": "code",
   "execution_count": 5,
   "metadata": {},
   "outputs": [
    {
     "ename": "NameError",
     "evalue": "name 'dir_path' is not defined",
     "output_type": "error",
     "traceback": [
      "\u001b[0;31m---------------------------------------------------------------------------\u001b[0m",
      "\u001b[0;31mNameError\u001b[0m                                 Traceback (most recent call last)",
      "\u001b[1;32m/home/hyunsu/Documents/GitHub/pytorch-tutorial/DL_with_pytorch/Ch04_2_CT.ipynb Cell 4\u001b[0m in \u001b[0;36m<cell line: 1>\u001b[0;34m()\u001b[0m\n\u001b[0;32m----> <a href='vscode-notebook-cell://ssh-remote%2Bubuntu223/home/hyunsu/Documents/GitHub/pytorch-tutorial/DL_with_pytorch/Ch04_2_CT.ipynb#ch0000007vscode-remote?line=0'>1</a>\u001b[0m vol_arr \u001b[39m=\u001b[39m imageio\u001b[39m.\u001b[39mvolread(dir_path, \u001b[39m'\u001b[39m\u001b[39mDICOM\u001b[39m\u001b[39m'\u001b[39m)\n\u001b[1;32m      <a href='vscode-notebook-cell://ssh-remote%2Bubuntu223/home/hyunsu/Documents/GitHub/pytorch-tutorial/DL_with_pytorch/Ch04_2_CT.ipynb#ch0000007vscode-remote?line=1'>2</a>\u001b[0m vol_arr\u001b[39m.\u001b[39mshape\n",
      "\u001b[0;31mNameError\u001b[0m: name 'dir_path' is not defined"
     ]
    }
   ],
   "source": []
  },
  {
   "cell_type": "code",
   "execution_count": null,
   "metadata": {},
   "outputs": [],
   "source": []
  },
  {
   "cell_type": "code",
   "execution_count": null,
   "metadata": {},
   "outputs": [],
   "source": []
  },
  {
   "cell_type": "code",
   "execution_count": null,
   "metadata": {},
   "outputs": [],
   "source": []
  }
 ],
 "metadata": {
  "kernelspec": {
   "display_name": "Python 3.8.13 ('th1p12')",
   "language": "python",
   "name": "python3"
  },
  "language_info": {
   "codemirror_mode": {
    "name": "ipython",
    "version": 3
   },
   "file_extension": ".py",
   "mimetype": "text/x-python",
   "name": "python",
   "nbconvert_exporter": "python",
   "pygments_lexer": "ipython3",
   "version": "3.8.13"
  },
  "orig_nbformat": 4,
  "vscode": {
   "interpreter": {
    "hash": "540ee3e445d1da392d2b8a7d647dcbc2bd268a0d669d2281aeea3f4a5da62e9a"
   }
  }
 },
 "nbformat": 4,
 "nbformat_minor": 2
}
