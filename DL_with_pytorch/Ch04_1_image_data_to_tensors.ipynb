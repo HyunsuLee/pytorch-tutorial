{
 "cells": [
  {
   "cell_type": "markdown",
   "metadata": {},
   "source": [
    "# Chapter 04 실제 데이터를 실제 텐서로 표현하기\n",
    "* https://github.com/deep-learning-with-pytorch/dlwpt-code/blob/master/p1ch4/1_image_dog.ipynb\n",
    "* 첫번째 파트 강아지 사진 로드 "
   ]
  },
  {
   "cell_type": "code",
   "execution_count": 84,
   "metadata": {},
   "outputs": [],
   "source": [
    "#!pip install imageio\n",
    "import imageio\n",
    "\n",
    "import numpy as np\n",
    "import torch\n",
    "torch.set_printoptions(edgeitems=2, threshold=50)\n"
   ]
  },
  {
   "cell_type": "code",
   "execution_count": 85,
   "metadata": {},
   "outputs": [
    {
     "name": "stderr",
     "output_type": "stream",
     "text": [
      "/tmp/ipykernel_6201/3167898114.py:1: DeprecationWarning: Starting with ImageIO v3 the behavior of this function will switch to that of iio.v3.imread. To keep the current behavior (and make this warning dissapear) use `import imageio.v2 as imageio` or call `imageio.v2.imread` directly.\n",
      "  img_arr = imageio.imread('./data/ch04/bobby.jpg')\n"
     ]
    },
    {
     "data": {
      "text/plain": [
       "(720, 1280, 3)"
      ]
     },
     "execution_count": 85,
     "metadata": {},
     "output_type": "execute_result"
    }
   ],
   "source": [
    "img_arr = imageio.imread('./data/ch04/bobby.jpg')\n",
    "img_arr.shape # 720 x 1280 x 3 = Height x width x RGB channel"
   ]
  },
  {
   "cell_type": "code",
   "execution_count": 86,
   "metadata": {},
   "outputs": [],
   "source": [
    "img = torch.from_numpy(img_arr)\n",
    "out = img.permute(2, 0, 1) # C X H X W"
   ]
  },
  {
   "cell_type": "code",
   "execution_count": 87,
   "metadata": {},
   "outputs": [
    {
     "data": {
      "text/plain": [
       "(torch.Size([3, 720, 1280]), (1, 3840, 3), (3840, 3, 1))"
      ]
     },
     "execution_count": 87,
     "metadata": {},
     "output_type": "execute_result"
    }
   ],
   "source": [
    "out.shape, out.stride(), img.stride()"
   ]
  },
  {
   "cell_type": "code",
   "execution_count": 88,
   "metadata": {},
   "outputs": [],
   "source": [
    "batch_size = 3\n",
    "batch = torch.zeros(batch_size, 3, 256, 256, dtype=torch.uint8) # N x C x H x W tenspr"
   ]
  },
  {
   "cell_type": "code",
   "execution_count": 89,
   "metadata": {},
   "outputs": [],
   "source": [
    "import os\n",
    "\n",
    "data_dir = './data/ch04/image-cats/'\n",
    "filenames = [name for name in os.listdir(data_dir)]\n"
   ]
  },
  {
   "cell_type": "code",
   "execution_count": 90,
   "metadata": {},
   "outputs": [
    {
     "data": {
      "text/plain": [
       "['bobby2.jpg', 'bobby1.jpg', 'bobby3.jpg']"
      ]
     },
     "execution_count": 90,
     "metadata": {},
     "output_type": "execute_result"
    }
   ],
   "source": [
    "filenames"
   ]
  },
  {
   "cell_type": "code",
   "execution_count": 91,
   "metadata": {},
   "outputs": [
    {
     "name": "stderr",
     "output_type": "stream",
     "text": [
      "/tmp/ipykernel_6201/1341585926.py:4: DeprecationWarning: Starting with ImageIO v3 the behavior of this function will switch to that of iio.v3.imread. To keep the current behavior (and make this warning dissapear) use `import imageio.v2 as imageio` or call `imageio.v2.imread` directly.\n",
      "  img_arr = imageio.imread(os.path.join(data_dir, filename))\n"
     ]
    },
    {
     "ename": "RuntimeError",
     "evalue": "The expanded size of the tensor (256) must match the existing size (1280) at non-singleton dimension 2.  Target sizes: [3, 256, 256].  Tensor sizes: [3, 720, 1280]",
     "output_type": "error",
     "traceback": [
      "\u001b[0;31m---------------------------------------------------------------------------\u001b[0m",
      "\u001b[0;31mRuntimeError\u001b[0m                              Traceback (most recent call last)",
      "\u001b[1;32m/home/hyunsu/Documents/GitHub/pytorch-tutorial/DL_with_pytorch/Ch04_1_image_data_to_tensors.ipynb Cell 9\u001b[0m in \u001b[0;36m<cell line: 3>\u001b[0;34m()\u001b[0m\n\u001b[1;32m      <a href='vscode-notebook-cell://ssh-remote%2Bubuntu223/home/hyunsu/Documents/GitHub/pytorch-tutorial/DL_with_pytorch/Ch04_1_image_data_to_tensors.ipynb#ch0000011vscode-remote?line=5'>6</a>\u001b[0m img_t \u001b[39m=\u001b[39m img_t\u001b[39m.\u001b[39mpermute(\u001b[39m2\u001b[39m, \u001b[39m0\u001b[39m, \u001b[39m1\u001b[39m)\n\u001b[1;32m      <a href='vscode-notebook-cell://ssh-remote%2Bubuntu223/home/hyunsu/Documents/GitHub/pytorch-tutorial/DL_with_pytorch/Ch04_1_image_data_to_tensors.ipynb#ch0000011vscode-remote?line=6'>7</a>\u001b[0m img_t \u001b[39m=\u001b[39m img_t[:\u001b[39m3\u001b[39m] \u001b[39m# <1>\u001b[39;00m\n\u001b[0;32m----> <a href='vscode-notebook-cell://ssh-remote%2Bubuntu223/home/hyunsu/Documents/GitHub/pytorch-tutorial/DL_with_pytorch/Ch04_1_image_data_to_tensors.ipynb#ch0000011vscode-remote?line=7'>8</a>\u001b[0m batch[i] \u001b[39m=\u001b[39m img_t\n",
      "\u001b[0;31mRuntimeError\u001b[0m: The expanded size of the tensor (256) must match the existing size (1280) at non-singleton dimension 2.  Target sizes: [3, 256, 256].  Tensor sizes: [3, 720, 1280]"
     ]
    }
   ],
   "source": [
    "#!pip install imageio[opencv]\n",
    "#!pip install imageio[pyav]\n",
    "for i, filename in enumerate(filenames):\n",
    "    img_arr = imageio.imread(os.path.join(data_dir, filename))\n",
    "    img_t = torch.from_numpy(img_arr)\n",
    "    img_t = img_t.permute(2, 0, 1)\n",
    "    img_t = img_t[:3] # <1>\n",
    "    batch[i] = img_t"
   ]
  },
  {
   "cell_type": "markdown",
   "metadata": {},
   "source": [
    "* 저자가 제공한 고양이 사진은 오류 때문에 안열린다. (알고보니 wget의 문제였음. wget이 github파일을 끝까지 못 받음)\n",
    "* github image에 대고 우클릭해서 링크를 따면 raw=true option이 생기면서 제대로 받아짐.\n",
    "  * 저자의 강아지 사진을 이렇게 받았다.\n",
    "  * 일일히 예시 data를 이런식으로 받는건 불편하므로, 저자의 repo를 fork해서 공부하는게 낫겠다.\n",
    "  * ~~인터넷에서 구할 수 있는 다른 사진도 몇개 test해봤는데, 마찬가지.~~\n",
    "  * ~~저자의 강아지 boddy사진은 Size가 안 맞아서 batch tensor에 안들어간다.~~\n",
    "  * ~~일단 저자의 코드만 아래 복사해두고, 나중에 돌아와서 처리하자.~~"
   ]
  },
  {
   "cell_type": "code",
   "execution_count": 92,
   "metadata": {},
   "outputs": [],
   "source": [
    "batch = batch.float()\n",
    "batch /= 255.0 # 0-1 scaling"
   ]
  },
  {
   "cell_type": "code",
   "execution_count": 93,
   "metadata": {},
   "outputs": [],
   "source": [
    "n_channels = batch.shape[1]\n",
    "for c in range(n_channels):\n",
    "    mean = torch.mean(batch[:, c])\n",
    "    std = torch.std(batch[:, c])\n",
    "    batch[:, c] = (batch[:, c] - mean) / std # normalization"
   ]
  },
  {
   "cell_type": "code",
   "execution_count": 104,
   "metadata": {},
   "outputs": [
    {
     "name": "stderr",
     "output_type": "stream",
     "text": [
      "/tmp/ipykernel_6201/2031106708.py:2: DeprecationWarning: Starting with ImageIO v3 the behavior of this function will switch to that of iio.v3.imread. To keep the current behavior (and make this warning dissapear) use `import imageio.v2 as imageio` or call `imageio.v2.imread` directly.\n",
      "  cat1 = imageio.imread(cat1, format=\"pillow\",index=None)\n"
     ]
    },
    {
     "ename": "OSError",
     "evalue": "An unknown error occured while initializing plugin `pillow`.",
     "output_type": "error",
     "traceback": [
      "\u001b[0;31m---------------------------------------------------------------------------\u001b[0m",
      "\u001b[0;31mAttributeError\u001b[0m                            Traceback (most recent call last)",
      "File \u001b[0;32m~/anaconda3/envs/th1p12/lib/python3.8/site-packages/imageio/core/imopen.py:147\u001b[0m, in \u001b[0;36mimopen\u001b[0;34m(uri, io_mode, plugin, extension, format_hint, legacy_mode, **kwargs)\u001b[0m\n\u001b[1;32m    146\u001b[0m \u001b[39mtry\u001b[39;00m:\n\u001b[0;32m--> 147\u001b[0m     \u001b[39mreturn\u001b[39;00m loader(request, \u001b[39m*\u001b[39;49m\u001b[39m*\u001b[39;49mkwargs)\n\u001b[1;32m    148\u001b[0m \u001b[39mexcept\u001b[39;00m InitializationError \u001b[39mas\u001b[39;00m class_specific:\n",
      "File \u001b[0;32m~/anaconda3/envs/th1p12/lib/python3.8/site-packages/imageio/core/imopen.py:135\u001b[0m, in \u001b[0;36mimopen.<locals>.loader\u001b[0;34m(request, **kwargs)\u001b[0m\n\u001b[1;32m    134\u001b[0m \u001b[39mdef\u001b[39;00m \u001b[39mloader\u001b[39m(request, \u001b[39m*\u001b[39m\u001b[39m*\u001b[39mkwargs):\n\u001b[0;32m--> 135\u001b[0m     \u001b[39mreturn\u001b[39;00m config\u001b[39m.\u001b[39;49mplugin_class(request, \u001b[39m*\u001b[39;49m\u001b[39m*\u001b[39;49mkwargs)\n",
      "File \u001b[0;32m~/anaconda3/envs/th1p12/lib/python3.8/site-packages/imageio/plugins/pillow.py:79\u001b[0m, in \u001b[0;36mPillowPlugin.__init__\u001b[0;34m(self, request)\u001b[0m\n\u001b[1;32m     78\u001b[0m \u001b[39mtry\u001b[39;00m:\n\u001b[0;32m---> 79\u001b[0m     \u001b[39mwith\u001b[39;00m Image\u001b[39m.\u001b[39;49mopen(request\u001b[39m.\u001b[39;49mget_file()):\n\u001b[1;32m     80\u001b[0m         \u001b[39m# Check if it is generally possible to read the image.\u001b[39;00m\n\u001b[1;32m     81\u001b[0m         \u001b[39m# This will not read any data and merely try to find a\u001b[39;00m\n\u001b[1;32m     82\u001b[0m         \u001b[39m# compatible pillow plugin (ref: the pillow docs).\u001b[39;00m\n\u001b[1;32m     83\u001b[0m         \u001b[39mpass\u001b[39;00m\n",
      "File \u001b[0;32m~/anaconda3/envs/th1p12/lib/python3.8/site-packages/PIL/Image.py:3133\u001b[0m, in \u001b[0;36mopen\u001b[0;34m(fp, mode, formats)\u001b[0m\n\u001b[1;32m   3131\u001b[0m     \u001b[39mreturn\u001b[39;00m \u001b[39mNone\u001b[39;00m\n\u001b[0;32m-> 3133\u001b[0m im \u001b[39m=\u001b[39m _open_core(fp, filename, prefix, formats)\n\u001b[1;32m   3135\u001b[0m \u001b[39mif\u001b[39;00m im \u001b[39mis\u001b[39;00m \u001b[39mNone\u001b[39;00m:\n",
      "File \u001b[0;32m~/anaconda3/envs/th1p12/lib/python3.8/site-packages/PIL/Image.py:3119\u001b[0m, in \u001b[0;36mopen.<locals>._open_core\u001b[0;34m(fp, filename, prefix, formats)\u001b[0m\n\u001b[1;32m   3118\u001b[0m fp\u001b[39m.\u001b[39mseek(\u001b[39m0\u001b[39m)\n\u001b[0;32m-> 3119\u001b[0m im \u001b[39m=\u001b[39m factory(fp, filename)\n\u001b[1;32m   3120\u001b[0m _decompression_bomb_check(im\u001b[39m.\u001b[39msize)\n",
      "File \u001b[0;32m~/anaconda3/envs/th1p12/lib/python3.8/site-packages/PIL/ImageFile.py:116\u001b[0m, in \u001b[0;36mImageFile.__init__\u001b[0;34m(self, fp, filename)\u001b[0m\n\u001b[1;32m    115\u001b[0m \u001b[39mtry\u001b[39;00m:\n\u001b[0;32m--> 116\u001b[0m     \u001b[39mself\u001b[39;49m\u001b[39m.\u001b[39;49m_open()\n\u001b[1;32m    117\u001b[0m \u001b[39mexcept\u001b[39;00m (\n\u001b[1;32m    118\u001b[0m     \u001b[39mIndexError\u001b[39;00m,  \u001b[39m# end of data\u001b[39;00m\n\u001b[1;32m    119\u001b[0m     \u001b[39mTypeError\u001b[39;00m,  \u001b[39m# end of data (ord)\u001b[39;00m\n\u001b[0;32m   (...)\u001b[0m\n\u001b[1;32m    122\u001b[0m     struct\u001b[39m.\u001b[39merror,\n\u001b[1;32m    123\u001b[0m ) \u001b[39mas\u001b[39;00m v:\n",
      "File \u001b[0;32m~/anaconda3/envs/th1p12/lib/python3.8/site-packages/PIL/ImImagePlugin.py:153\u001b[0m, in \u001b[0;36mImImageFile._open\u001b[0;34m(self)\u001b[0m\n\u001b[1;32m    152\u001b[0m \u001b[39m# FIXME: this may read whole file if not a text file\u001b[39;00m\n\u001b[0;32m--> 153\u001b[0m s \u001b[39m=\u001b[39m s \u001b[39m+\u001b[39m \u001b[39mself\u001b[39;49m\u001b[39m.\u001b[39;49mfp\u001b[39m.\u001b[39;49mreadline()\n\u001b[1;32m    155\u001b[0m \u001b[39mif\u001b[39;00m \u001b[39mlen\u001b[39m(s) \u001b[39m>\u001b[39m \u001b[39m100\u001b[39m:\n",
      "\u001b[0;31mAttributeError\u001b[0m: 'SeekableFileObject' object has no attribute 'readline'",
      "\nThe above exception was the direct cause of the following exception:\n",
      "\u001b[0;31mOSError\u001b[0m                                   Traceback (most recent call last)",
      "\u001b[1;32m/home/hyunsu/Documents/GitHub/pytorch-tutorial/DL_with_pytorch/Ch04_1_image_data_to_tensors.ipynb Cell 13\u001b[0m in \u001b[0;36m<cell line: 2>\u001b[0;34m()\u001b[0m\n\u001b[1;32m      <a href='vscode-notebook-cell://ssh-remote%2Bubuntu223/home/hyunsu/Documents/GitHub/pytorch-tutorial/DL_with_pytorch/Ch04_1_image_data_to_tensors.ipynb#ch0000015vscode-remote?line=0'>1</a>\u001b[0m cat1 \u001b[39m=\u001b[39m \u001b[39m\"\u001b[39m\u001b[39mhttps://github.com/deep-learning-with-pytorch/dlwpt-code/blob/master/data/p1ch4/image-cats/cat1.png\u001b[39m\u001b[39m\"\u001b[39m\n\u001b[0;32m----> <a href='vscode-notebook-cell://ssh-remote%2Bubuntu223/home/hyunsu/Documents/GitHub/pytorch-tutorial/DL_with_pytorch/Ch04_1_image_data_to_tensors.ipynb#ch0000015vscode-remote?line=1'>2</a>\u001b[0m cat1 \u001b[39m=\u001b[39m imageio\u001b[39m.\u001b[39;49mimread(cat1, \u001b[39mformat\u001b[39;49m\u001b[39m=\u001b[39;49m\u001b[39m\"\u001b[39;49m\u001b[39mpillow\u001b[39;49m\u001b[39m\"\u001b[39;49m,index\u001b[39m=\u001b[39;49m\u001b[39mNone\u001b[39;49;00m)\n",
      "File \u001b[0;32m~/anaconda3/envs/th1p12/lib/python3.8/site-packages/imageio/__init__.py:97\u001b[0m, in \u001b[0;36mimread\u001b[0;34m(uri, format, **kwargs)\u001b[0m\n\u001b[1;32m     68\u001b[0m \u001b[39m\"\"\"imread(uri, format=None, **kwargs)\u001b[39;00m\n\u001b[1;32m     69\u001b[0m \n\u001b[1;32m     70\u001b[0m \u001b[39mReads an image from the specified file. Returns a numpy array, which\u001b[39;00m\n\u001b[0;32m   (...)\u001b[0m\n\u001b[1;32m     86\u001b[0m \u001b[39m    to see what arguments are available for a particular format.\u001b[39;00m\n\u001b[1;32m     87\u001b[0m \u001b[39m\"\"\"\u001b[39;00m\n\u001b[1;32m     89\u001b[0m warnings\u001b[39m.\u001b[39mwarn(\n\u001b[1;32m     90\u001b[0m     \u001b[39m\"\u001b[39m\u001b[39mStarting with ImageIO v3 the behavior of this function will switch to that of\u001b[39m\u001b[39m\"\u001b[39m\n\u001b[1;32m     91\u001b[0m     \u001b[39m\"\u001b[39m\u001b[39m iio.v3.imread. To keep the current behavior (and make this warning dissapear)\u001b[39m\u001b[39m\"\u001b[39m\n\u001b[0;32m   (...)\u001b[0m\n\u001b[1;32m     94\u001b[0m     stacklevel\u001b[39m=\u001b[39m\u001b[39m2\u001b[39m,\n\u001b[1;32m     95\u001b[0m )\n\u001b[0;32m---> 97\u001b[0m \u001b[39mreturn\u001b[39;00m imread_v2(uri, \u001b[39mformat\u001b[39;49m\u001b[39m=\u001b[39;49m\u001b[39mformat\u001b[39;49m, \u001b[39m*\u001b[39;49m\u001b[39m*\u001b[39;49mkwargs)\n",
      "File \u001b[0;32m~/anaconda3/envs/th1p12/lib/python3.8/site-packages/imageio/v2.py:200\u001b[0m, in \u001b[0;36mimread\u001b[0;34m(uri, format, **kwargs)\u001b[0m\n\u001b[1;32m    197\u001b[0m imopen_args \u001b[39m=\u001b[39m decypher_format_arg(\u001b[39mformat\u001b[39m)\n\u001b[1;32m    198\u001b[0m imopen_args[\u001b[39m\"\u001b[39m\u001b[39mlegacy_mode\u001b[39m\u001b[39m\"\u001b[39m] \u001b[39m=\u001b[39m \u001b[39mTrue\u001b[39;00m\n\u001b[0;32m--> 200\u001b[0m \u001b[39mwith\u001b[39;00m imopen(uri, \u001b[39m\"\u001b[39;49m\u001b[39mri\u001b[39;49m\u001b[39m\"\u001b[39;49m, \u001b[39m*\u001b[39;49m\u001b[39m*\u001b[39;49mimopen_args) \u001b[39mas\u001b[39;00m file:\n\u001b[1;32m    201\u001b[0m     \u001b[39mreturn\u001b[39;00m file\u001b[39m.\u001b[39mread(index\u001b[39m=\u001b[39m\u001b[39m0\u001b[39m, \u001b[39m*\u001b[39m\u001b[39m*\u001b[39mkwargs)\n",
      "File \u001b[0;32m~/anaconda3/envs/th1p12/lib/python3.8/site-packages/imageio/core/imopen.py:165\u001b[0m, in \u001b[0;36mimopen\u001b[0;34m(uri, io_mode, plugin, extension, format_hint, legacy_mode, **kwargs)\u001b[0m\n\u001b[1;32m    162\u001b[0m         err_msg \u001b[39m=\u001b[39m \u001b[39mf\u001b[39m\u001b[39m\"\u001b[39m\u001b[39mAn unknown error occured while initializing plugin `\u001b[39m\u001b[39m{\u001b[39;00mplugin\u001b[39m}\u001b[39;00m\u001b[39m`.\u001b[39m\u001b[39m\"\u001b[39m\n\u001b[1;32m    164\u001b[0m     request\u001b[39m.\u001b[39mfinish()\n\u001b[0;32m--> 165\u001b[0m     \u001b[39mraise\u001b[39;00m err_type(err_msg) \u001b[39mfrom\u001b[39;00m \u001b[39merr_from\u001b[39;00m\n\u001b[1;32m    167\u001b[0m \u001b[39m# fast-path based on format_hint\u001b[39;00m\n\u001b[1;32m    168\u001b[0m \u001b[39mif\u001b[39;00m request\u001b[39m.\u001b[39mformat_hint \u001b[39mis\u001b[39;00m \u001b[39mnot\u001b[39;00m \u001b[39mNone\u001b[39;00m:\n",
      "\u001b[0;31mOSError\u001b[0m: An unknown error occured while initializing plugin `pillow`."
     ]
    }
   ],
   "source": [
    "cat1 = \"https://github.com/deep-learning-with-pytorch/dlwpt-code/blob/master/data/p1ch4/image-cats/cat1.png\"\n",
    "cat1 = imageio.imread(cat1, format=\"pillow\",index=None)"
   ]
  }
 ],
 "metadata": {
  "kernelspec": {
   "display_name": "Python 3.8.13 ('th1p12')",
   "language": "python",
   "name": "python3"
  },
  "language_info": {
   "codemirror_mode": {
    "name": "ipython",
    "version": 3
   },
   "file_extension": ".py",
   "mimetype": "text/x-python",
   "name": "python",
   "nbconvert_exporter": "python",
   "pygments_lexer": "ipython3",
   "version": "3.8.13"
  },
  "orig_nbformat": 4,
  "vscode": {
   "interpreter": {
    "hash": "540ee3e445d1da392d2b8a7d647dcbc2bd268a0d669d2281aeea3f4a5da62e9a"
   }
  }
 },
 "nbformat": 4,
 "nbformat_minor": 2
}
