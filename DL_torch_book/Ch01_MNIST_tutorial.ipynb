{
 "cells": [
  {
   "cell_type": "markdown",
   "metadata": {},
   "source": [
    "# Chapter 01 후반부 MNIST 실례 CNN\n",
    "* 이부분은 공식 git repo에 있는 code가 있다. \n",
    "* https://github.com/PacktPublishing/Mastering-PyTorch/blob/master/Chapter01/mnist_pytorch.ipynb"
   ]
  },
  {
   "cell_type": "code",
   "execution_count": 1,
   "metadata": {},
   "outputs": [],
   "source": [
    "# import modules\n",
    "\n",
    "import torch\n",
    "import torch.nn as nn\n",
    "import torch.nn.functional as F\n",
    "import torch.optim as optim\n",
    "from torch.utils.data import DataLoader\n",
    "from torchvision import datasets, transforms\n",
    "\n",
    "import matplotlib.pyplot as plt"
   ]
  },
  {
   "cell_type": "code",
   "execution_count": 2,
   "metadata": {},
   "outputs": [],
   "source": [
    "# model architecture \n",
    "\n",
    "class ConvNet(nn.Module):\n",
    "    def __init__(self):\n",
    "        super(ConvNet, self).__init__()\n",
    "        self.cn1 = nn.Conv2d(1, 16, 3, 1) # 1 input channel, 16 out channel, 3x3 kernel, 1 stride, no padding\n",
    "        # 그래서 28x28x1인 input image는 26x26x16으로 변한다.\n",
    "        self.cn2 = nn.Conv2d(16, 32, 3, 1)\n",
    "        # 마찬가지로 26x26x16은 24x24x32로 변한다.\n",
    "        self.dp1 = nn.Dropout2d(0.10)\n",
    "        self.dp2 = nn.Dropout2d(0.25)\n",
    "        self.fc1 = nn.Linear(4608, 64) # 4608 is basically 12 X 12 X 32\n",
    "        # 위 linear층은 평면화된 4608을 64짜리 neural net으로 사영(weigth matrix 크기가 64x4608)\n",
    "        self.fc2 = nn.Linear(64, 10) # 10x64 weight matrix\n",
    " \n",
    "    def forward(self, x):\n",
    "        x = self.cn1(x)\n",
    "        x = F.relu(x)\n",
    "        x = self.cn2(x)\n",
    "        x = F.relu(x)\n",
    "        x = F.max_pool2d(x, 2)\n",
    "        # 풀링은 여기서 정의, 24x24x32인 풀링이 2x2 pooling되면서, 12x12x32로 변함.\n",
    "        x = self.dp1(x) # 드롭아웃층\n",
    "        x = torch.flatten(x, 1) #여기가 평면화되는데, 12x12x32=4608층이 되는 부분.\n",
    "        x = self.fc1(x)\n",
    "        x = F.relu(x)\n",
    "        x = self.dp2(x) #여기가 두번째 드롭아웃층\n",
    "        x = self.fc2(x)\n",
    "        op = F.log_softmax(x, dim=1) #마지막 sofmax층\n",
    "        return op"
   ]
  },
  {
   "cell_type": "code",
   "execution_count": 21,
   "metadata": {},
   "outputs": [],
   "source": [
    "# training function \n",
    "def train(model, device, train_dataloader, optim, epoch):\n",
    "    model.train()\n",
    "    for b_i, (X, y) in enumerate(train_dataloader):\n",
    "        X, y = X.to(device), y.to(device)\n",
    "        optim.zero_grad()\n",
    "        pred_prob = model(X)\n",
    "        loss = F.nll_loss(pred_prob, y) # nll is the negative likelihood loss\n",
    "        loss.backward()\n",
    "        optim.step()\n",
    "        if b_i % 100 == 0:\n",
    "            print('epoch: {} [{}/{} ({:.0f}%)]\\t training loss: {:.6f}'.format(\n",
    "                epoch, b_i * len(X), len(train_dataloader.dataset),\n",
    "                100. * b_i / len(train_dataloader), loss.item()))\n"
   ]
  },
  {
   "cell_type": "code",
   "execution_count": 4,
   "metadata": {},
   "outputs": [],
   "source": [
    "# model test function\n",
    "def test(model, device, test_dataloader):\n",
    "    model.eval()\n",
    "    loss = 0\n",
    "    success = 0\n",
    "    with torch.no_grad():\n",
    "        for X, y in test_dataloader:\n",
    "            X, y = X.to(device), y.to(device)\n",
    "            pred_prob = model(X)\n",
    "            loss += F.nll_loss(pred_prob, y, reduction='sum').item()  # loss summed across the batch\n",
    "            pred = pred_prob.argmax(dim=1, keepdim=True)  # use argmax to get the most likely prediction\n",
    "            success += pred.eq(y.view_as(pred)).sum().item()\n",
    "\n",
    "    loss /= len(test_dataloader.dataset)\n",
    "\n",
    "    print('\\nTest dataset: Overall Loss: {:.4f}, Overall Accuracy: {}/{} ({:.0f}%)\\n'.format(\n",
    "        loss, success, len(test_dataloader.dataset),\n",
    "        100. * success / len(test_dataloader.dataset)))"
   ]
  },
  {
   "cell_type": "code",
   "execution_count": 9,
   "metadata": {},
   "outputs": [
    {
     "name": "stdout",
     "output_type": "stream",
     "text": [
      "Using downloaded and verified file: /home/hyunsu/Documents/data/MNIST/raw/train-images-idx3-ubyte.gz\n",
      "Extracting /home/hyunsu/Documents/data/MNIST/raw/train-images-idx3-ubyte.gz to /home/hyunsu/Documents/data/MNIST/raw\n",
      "Using downloaded and verified file: /home/hyunsu/Documents/data/MNIST/raw/train-labels-idx1-ubyte.gz\n",
      "Extracting /home/hyunsu/Documents/data/MNIST/raw/train-labels-idx1-ubyte.gz to /home/hyunsu/Documents/data/MNIST/raw\n",
      "Using downloaded and verified file: /home/hyunsu/Documents/data/MNIST/raw/t10k-images-idx3-ubyte.gz\n",
      "Extracting /home/hyunsu/Documents/data/MNIST/raw/t10k-images-idx3-ubyte.gz to /home/hyunsu/Documents/data/MNIST/raw\n",
      "Using downloaded and verified file: /home/hyunsu/Documents/data/MNIST/raw/t10k-labels-idx1-ubyte.gz\n",
      "Extracting /home/hyunsu/Documents/data/MNIST/raw/t10k-labels-idx1-ubyte.gz to /home/hyunsu/Documents/data/MNIST/raw\n",
      "Processing...\n",
      "Done!\n"
     ]
    }
   ],
   "source": [
    "MNIST_data_folder = \"/home/hyunsu/Documents/data\"\n",
    "training_data = datasets.MNIST(\n",
    "                    root=MNIST_data_folder, \n",
    "                    train=True, \n",
    "                    download=True, \n",
    "                    transform=transforms.ToTensor()\n",
    "                    )\n",
    "testing_data = datasets.MNIST(\n",
    "                    root=MNIST_data_folder, \n",
    "                    train=False, \n",
    "                    download=True, \n",
    "                    transform=transforms.ToTensor()\n",
    "                    )"
   ]
  },
  {
   "cell_type": "code",
   "execution_count": 11,
   "metadata": {},
   "outputs": [],
   "source": [
    "# dataset dataloader, 원 코드에서 normalize를 생략했다. 그래도 되는지 보자. \n",
    "\n",
    "train_dataloader = DataLoader(training_data, batch_size=32, shuffle=True)\n",
    "test_dataloader = DataLoader(testing_data, batch_size=500, shuffle=False)"
   ]
  },
  {
   "cell_type": "code",
   "execution_count": 19,
   "metadata": {},
   "outputs": [],
   "source": [
    "# optimizer and device setting\n",
    "torch.manual_seed(42)\n",
    "device = torch.device('cuda:0' if torch.cuda.is_available() else 'cpu')\n",
    "#print(device)\n",
    "\n",
    "model= ConvNet().to(device)\n",
    "optimizer = optim.Adadelta(model.parameters(), lr=0.5)"
   ]
  },
  {
   "cell_type": "code",
   "execution_count": 23,
   "metadata": {},
   "outputs": [
    {
     "name": "stdout",
     "output_type": "stream",
     "text": [
      "epoch: 1 [0/60000 (0%)]\t training loss: 0.124197\n",
      "epoch: 1 [3200/60000 (5%)]\t training loss: 0.192158\n",
      "epoch: 1 [6400/60000 (11%)]\t training loss: 0.004694\n",
      "epoch: 1 [9600/60000 (16%)]\t training loss: 0.017151\n",
      "epoch: 1 [12800/60000 (21%)]\t training loss: 0.001104\n",
      "epoch: 1 [16000/60000 (27%)]\t training loss: 0.001586\n",
      "epoch: 1 [19200/60000 (32%)]\t training loss: 0.026483\n",
      "epoch: 1 [22400/60000 (37%)]\t training loss: 0.005940\n",
      "epoch: 1 [25600/60000 (43%)]\t training loss: 0.002391\n",
      "epoch: 1 [28800/60000 (48%)]\t training loss: 0.012962\n",
      "epoch: 1 [32000/60000 (53%)]\t training loss: 0.006721\n",
      "epoch: 1 [35200/60000 (59%)]\t training loss: 0.005013\n",
      "epoch: 1 [38400/60000 (64%)]\t training loss: 0.011863\n",
      "epoch: 1 [41600/60000 (69%)]\t training loss: 0.123858\n",
      "epoch: 1 [44800/60000 (75%)]\t training loss: 0.105494\n",
      "epoch: 1 [48000/60000 (80%)]\t training loss: 0.000193\n",
      "epoch: 1 [51200/60000 (85%)]\t training loss: 0.055303\n",
      "epoch: 1 [54400/60000 (91%)]\t training loss: 0.002184\n",
      "epoch: 1 [57600/60000 (96%)]\t training loss: 0.052071\n",
      "\n",
      "Test dataset: Overall Loss: 0.0373, Overall Accuracy: 9877/10000 (99%)\n",
      "\n",
      "epoch: 2 [0/60000 (0%)]\t training loss: 0.153544\n",
      "epoch: 2 [3200/60000 (5%)]\t training loss: 0.007208\n",
      "epoch: 2 [6400/60000 (11%)]\t training loss: 0.002241\n",
      "epoch: 2 [9600/60000 (16%)]\t training loss: 0.142166\n",
      "epoch: 2 [12800/60000 (21%)]\t training loss: 0.080108\n",
      "epoch: 2 [16000/60000 (27%)]\t training loss: 0.118058\n",
      "epoch: 2 [19200/60000 (32%)]\t training loss: 0.015029\n",
      "epoch: 2 [22400/60000 (37%)]\t training loss: 0.079628\n",
      "epoch: 2 [25600/60000 (43%)]\t training loss: 0.044779\n",
      "epoch: 2 [28800/60000 (48%)]\t training loss: 0.012290\n",
      "epoch: 2 [32000/60000 (53%)]\t training loss: 0.089780\n",
      "epoch: 2 [35200/60000 (59%)]\t training loss: 0.100470\n",
      "epoch: 2 [38400/60000 (64%)]\t training loss: 0.003962\n",
      "epoch: 2 [41600/60000 (69%)]\t training loss: 0.302892\n",
      "epoch: 2 [44800/60000 (75%)]\t training loss: 0.030021\n",
      "epoch: 2 [48000/60000 (80%)]\t training loss: 0.040528\n",
      "epoch: 2 [51200/60000 (85%)]\t training loss: 0.009507\n",
      "epoch: 2 [54400/60000 (91%)]\t training loss: 0.012244\n",
      "epoch: 2 [57600/60000 (96%)]\t training loss: 0.026023\n",
      "\n",
      "Test dataset: Overall Loss: 0.0316, Overall Accuracy: 9893/10000 (99%)\n",
      "\n"
     ]
    }
   ],
   "source": [
    "# training\n",
    "for epoch in range(1,3):\n",
    "    train(model, device, train_dataloader, optimizer, epoch)\n",
    "    test(model, device, test_dataloader)"
   ]
  },
  {
   "cell_type": "code",
   "execution_count": 24,
   "metadata": {},
   "outputs": [
    {
     "data": {
      "image/png": "[encoded data removed]",
      "text/plain": [
       "<Figure size 432x288 with 1 Axes>"
      ]
     },
     "metadata": {
      "needs_background": "light"
     },
     "output_type": "display_data"
    }
   ],
   "source": [
    "# visulize performance of model\n",
    "test_samples = enumerate(test_dataloader)\n",
    "b_i, (sample_data, sample_targets) = next(test_samples)\n",
    "\n",
    "plt.imshow(sample_data[0][0], cmap='gray', interpolation='none')\n",
    "plt.show()"
   ]
  },
  {
   "cell_type": "code",
   "execution_count": 27,
   "metadata": {},
   "outputs": [
    {
     "name": "stdout",
     "output_type": "stream",
     "text": [
      "Model prediction is : 7\n",
      "Ground truth is : 7\n"
     ]
    },
    {
     "name": "stderr",
     "output_type": "stream",
     "text": [
      "/home/hyunsu/anaconda3/envs/gym/lib/python3.7/site-packages/ipykernel_launcher.py:1: UserWarning: To copy construct from a tensor, it is recommended to use sourceTensor.clone().detach() or sourceTensor.clone().detach().requires_grad_(True), rather than torch.tensor(sourceTensor).\n",
      "  \"\"\"Entry point for launching an IPython kernel.\n"
     ]
    }
   ],
   "source": [
    "sample_data= torch.tensor(sample_data, device=device)\n",
    "print(f\"Model prediction is : {model(sample_data).data.max(1)[1][0]}\") #armax output of the model\n",
    "print(f\"Ground truth is : {sample_targets[0]}\")"
   ]
  },
  {
   "cell_type": "code",
   "execution_count": 46,
   "metadata": {},
   "outputs": [
    {
     "name": "stdout",
     "output_type": "stream",
     "text": [
      "[-1.9475311e+01 -2.1848099e+01 -1.4551455e+01 -1.4022696e+01\n",
      " -2.6649443e+01 -2.3871819e+01 -3.2714928e+01 -1.6689301e-06\n",
      " -2.0530622e+01 -1.5024350e+01]\n"
     ]
    },
    {
     "data": {
      "text/plain": [
       "7"
      ]
     },
     "execution_count": 46,
     "metadata": {},
     "output_type": "execute_result"
    }
   ],
   "source": [
    "import numpy as np\n",
    "print(model(sample_data)[0].cpu().detach().numpy()) # data in GPU should be moved in CPU and detach from require_grad by detach\n",
    "np.argmax(model(sample_data)[0].cpu().detach().numpy(), axis=0)\n",
    "\n"
   ]
  }
 ],
 "metadata": {
  "kernelspec": {
   "display_name": "Python 3.7.3 ('gym')",
   "language": "python",
   "name": "python3"
  },
  "language_info": {
   "codemirror_mode": {
    "name": "ipython",
    "version": 3
   },
   "file_extension": ".py",
   "mimetype": "text/x-python",
   "name": "python",
   "nbconvert_exporter": "python",
   "pygments_lexer": "ipython3",
   "version": "3.7.3"
  },
  "orig_nbformat": 4,
  "vscode": {
   "interpreter": {
    "hash": "65ed74eebcc7240ef2d8972f5d9838f5f0b257290e5de17f25898b068a7191b6"
   }
  }
 },
 "nbformat": 4,
 "nbformat_minor": 2
}
