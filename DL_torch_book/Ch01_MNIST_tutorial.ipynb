{
 "cells": [
  {
   "cell_type": "markdown",
   "metadata": {},
   "source": [
    "# Chapter 01 후반부 MNIST 실례 CNN\n",
    "* 이부분은 공식 git repo에 있는 code가 있다. \n",
    "* https://github.com/PacktPublishing/Mastering-PyTorch/blob/master/Chapter01/mnist_pytorch.ipynb"
   ]
  },
  {
   "cell_type": "code",
   "execution_count": null,
   "metadata": {},
   "outputs": [],
   "source": [
    "# TODO MNIST tutorial import modules"
   ]
  }
 ],
 "metadata": {
  "language_info": {
   "name": "python"
  },
  "orig_nbformat": 4
 },
 "nbformat": 4,
 "nbformat_minor": 2
}
