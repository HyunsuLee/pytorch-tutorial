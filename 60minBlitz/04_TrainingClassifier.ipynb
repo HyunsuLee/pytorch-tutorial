{
 "cells": [
  {
   "cell_type": "markdown",
   "metadata": {},
   "source": [
    "# Training a Classifier"
   ]
  },
  {
   "cell_type": "code",
   "execution_count": 2,
   "metadata": {},
   "outputs": [],
   "source": [
    "import torch\n",
    "import torchvision\n",
    "import torchvision.transforms as transforms"
   ]
  },
  {
   "cell_type": "code",
   "execution_count": 4,
   "metadata": {},
   "outputs": [
    {
     "name": "stdout",
     "output_type": "stream",
     "text": [
      "Files already downloaded and verified\n",
      "Files already downloaded and verified\n"
     ]
    }
   ],
   "source": [
    "transform = transforms.Compose(\n",
    "    [transforms.ToTensor(),\n",
    "    transforms.Normalize((0.5, 0.5, 0.5), (0.5, 0.5, 0.5))])\n",
    "trainset = torchvision.datasets.CIFAR10(root='./data', train = True,\n",
    "                                       download = True, transform= transform)\n",
    "trainloader = torch.utils.data.DataLoader(trainset, batch_size=4,\n",
    "                                         shuffle=True, num_workers=2)\n",
    "testset = torchvision.datasets.CIFAR10(root='./data', train=False,\n",
    "                                      download=True, transform=transform)\n",
    "testloader = torch.utils.data.DataLoader(testset, batch_size=4,\n",
    "                                        shuffle=False, num_workers=2)\n",
    "\n",
    "classes = ('plane', 'car', 'bird', 'cat',\n",
    "           'deer', 'dog', 'frog', 'horse', 'ship', 'truck')"
   ]
  },
  {
   "cell_type": "code",
   "execution_count": 8,
   "metadata": {},
   "outputs": [
    {
     "name": "stdout",
     "output_type": "stream",
     "text": [
      " bird  deer   car truck\n"
     ]
    },
    {
     "data": {
      "image/png": "[encoded data removed]",
      "text/plain": [
       "<matplotlib.figure.Figure at 0x7f175d785fd0>"
      ]
     },
     "metadata": {
      "needs_background": "light"
     },
     "output_type": "display_data"
    }
   ],
   "source": [
    "%matplotlib inline\n",
    "import matplotlib.pyplot as plt\n",
    "import numpy as np\n",
    "\n",
    "def imshow(img):\n",
    "    img = img / 2 + 0.5 # unnormalize torch tensor\n",
    "    npimg = img.numpy() # to apply np transpose\n",
    "    plt.imshow(np.transpose(npimg, (1,2,0))) # npimg shape 3x32x32,transpose to 32x32x3.  \n",
    "\n",
    "dataiter = iter(trainloader)  # iter() method creates an object\n",
    "images, labels = dataiter.next() # which can be iterated one element at a time.\n",
    "\n",
    "imshow(torchvision.utils.make_grid(images))\n",
    "print(' '.join('%5s' % classes[labels[j]] for j in range(4)))"
   ]
  },
  {
   "cell_type": "code",
   "execution_count": 56,
   "metadata": {},
   "outputs": [
    {
     "data": {
      "text/plain": [
       "[tensor([[[[-0.6471, -0.6549, -0.6549,  ..., -0.7647, -0.7569, -0.7490],\n",
       "           [-0.6627, -0.6627, -0.6627,  ..., -0.7882, -0.7882, -0.7725],\n",
       "           [-0.6549, -0.6627, -0.6706,  ..., -0.7961, -0.7961, -0.7725],\n",
       "           ...,\n",
       "           [-0.2314,  0.2627,  0.5294,  ..., -0.6471, -0.6863, -0.6863],\n",
       "           [ 0.0039,  0.2706,  0.5137,  ..., -0.6392, -0.6627, -0.6627],\n",
       "           [ 0.1843,  0.3412,  0.5529,  ..., -0.6235, -0.6392, -0.6471]],\n",
       " \n",
       "          [[-0.3725, -0.3882, -0.3882,  ..., -0.4980, -0.4980, -0.4980],\n",
       "           [-0.3882, -0.3961, -0.3961,  ..., -0.5294, -0.5373, -0.5294],\n",
       "           [-0.3882, -0.3961, -0.4039,  ..., -0.5373, -0.5373, -0.5294],\n",
       "           ...,\n",
       "           [-0.2627,  0.0196,  0.1922,  ..., -0.5059, -0.5373, -0.5373],\n",
       "           [-0.0902,  0.0353,  0.2157,  ..., -0.4824, -0.5137, -0.5216],\n",
       "           [ 0.0118,  0.1216,  0.3020,  ..., -0.4667, -0.4980, -0.4980]],\n",
       " \n",
       "          [[-0.5137, -0.5216, -0.5216,  ..., -0.5843, -0.5843, -0.5843],\n",
       "           [-0.5216, -0.5294, -0.5294,  ..., -0.6157, -0.6235, -0.6078],\n",
       "           [-0.5216, -0.5294, -0.5373,  ..., -0.6235, -0.6235, -0.6078],\n",
       "           ...,\n",
       "           [-0.4902, -0.2549, -0.1137,  ..., -0.5373, -0.5216, -0.5294],\n",
       "           [-0.3490, -0.2627, -0.0980,  ..., -0.5216, -0.5216, -0.5294],\n",
       "           [-0.2706, -0.2157, -0.0431,  ..., -0.5137, -0.5294, -0.5373]]],\n",
       " \n",
       " \n",
       "         [[[-0.0510, -0.0431, -0.0039,  ..., -0.0118, -0.0431, -0.0510],\n",
       "           [-0.0980, -0.0745,  0.0039,  ..., -0.0353, -0.0510, -0.0588],\n",
       "           [-0.0588, -0.0980,  0.0118,  ..., -0.0196, -0.0353, -0.0588],\n",
       "           ...,\n",
       "           [ 0.0353, -0.0745, -0.0275,  ..., -0.1686,  0.1843,  0.2157],\n",
       "           [ 0.0431,  0.0118, -0.0275,  ...,  0.0980,  0.1059,  0.0667],\n",
       "           [-0.0275, -0.0039, -0.0353,  ...,  0.0588, -0.0588, -0.0196]],\n",
       " \n",
       "          [[-0.0118, -0.0196,  0.0275,  ...,  0.0588,  0.0353,  0.0275],\n",
       "           [-0.0431, -0.0353,  0.0196,  ...,  0.0510,  0.0353,  0.0275],\n",
       "           [ 0.0196, -0.0275,  0.0353,  ...,  0.0353, -0.0118, -0.0039],\n",
       "           ...,\n",
       "           [ 0.0902, -0.0039,  0.0353,  ..., -0.2627,  0.0745,  0.1216],\n",
       "           [ 0.1059,  0.0510,  0.0275,  ...,  0.0588,  0.0667,  0.0431],\n",
       "           [ 0.0588,  0.0196,  0.0196,  ...,  0.1137,  0.0039,  0.0588]],\n",
       " \n",
       "          [[-0.2471, -0.2549, -0.2471,  ..., -0.2784, -0.3020, -0.2784],\n",
       "           [-0.2706, -0.2627, -0.2314,  ..., -0.2706, -0.2863, -0.2784],\n",
       "           [-0.2235, -0.2784, -0.2078,  ..., -0.2392, -0.2706, -0.2784],\n",
       "           ...,\n",
       "           [-0.0431, -0.1451, -0.1373,  ..., -0.3412, -0.1686, -0.1137],\n",
       "           [-0.0353, -0.0980, -0.1529,  ..., -0.0902, -0.1451, -0.1216],\n",
       "           [-0.1216, -0.1294, -0.1451,  ..., -0.0510, -0.1843, -0.0902]]],\n",
       " \n",
       " \n",
       "         [[[ 0.5294,  0.4902,  0.4588,  ..., -0.8588, -0.9451, -0.8824],\n",
       "           [ 0.4510,  0.3647,  0.4824,  ..., -0.7804, -0.9294, -0.9765],\n",
       "           [ 0.4902,  0.3020,  0.3804,  ..., -0.9686, -0.9765, -0.9686],\n",
       "           ...,\n",
       "           [ 0.2157,  0.0902,  0.1686,  ...,  0.1294,  0.1843,  0.0039],\n",
       "           [ 0.1922,  0.1294,  0.1294,  ...,  0.1765,  0.2078,  0.1059],\n",
       "           [ 0.1765,  0.2235,  0.1843,  ...,  0.0667,  0.1451,  0.1608]],\n",
       " \n",
       "          [[ 0.3961,  0.3882,  0.3647,  ..., -0.8588, -0.9451, -0.8824],\n",
       "           [ 0.3176,  0.2706,  0.3882,  ..., -0.7804, -0.9294, -0.9765],\n",
       "           [ 0.3569,  0.2078,  0.2863,  ..., -0.9686, -0.9765, -0.9686],\n",
       "           ...,\n",
       "           [ 0.0824, -0.0431,  0.0353,  ...,  0.0510,  0.1059, -0.0667],\n",
       "           [ 0.0353, -0.0275, -0.0196,  ...,  0.0824,  0.1137,  0.0118],\n",
       "           [ 0.0196,  0.0667,  0.0275,  ..., -0.0275,  0.0431,  0.0667]],\n",
       " \n",
       "          [[ 0.2392,  0.2314,  0.2784,  ..., -0.8588, -0.9451, -0.8824],\n",
       "           [ 0.1608,  0.1059,  0.3020,  ..., -0.7804, -0.9294, -0.9765],\n",
       "           [ 0.2000,  0.0431,  0.2000,  ..., -0.9686, -0.9765, -0.9686],\n",
       "           ...,\n",
       "           [-0.1373, -0.2627, -0.1843,  ..., -0.1765, -0.1216, -0.2941],\n",
       "           [-0.1765, -0.2392, -0.2392,  ..., -0.1608, -0.1294, -0.2314],\n",
       "           [-0.1922, -0.1451, -0.1843,  ..., -0.2706, -0.2000, -0.1765]]],\n",
       " \n",
       " \n",
       "         [[[ 0.6157,  0.5373,  0.7333,  ..., -0.5843, -0.5843, -0.6000],\n",
       "           [ 0.6235,  0.5922,  0.6627,  ..., -0.5765, -0.5686, -0.5765],\n",
       "           [ 0.5843,  0.5765,  0.6549,  ..., -0.5137, -0.3020, -0.1059],\n",
       "           ...,\n",
       "           [ 0.6941,  0.6392,  0.6078,  ...,  0.5529,  0.6078,  0.6157],\n",
       "           [ 0.6078,  0.6314,  0.6314,  ...,  0.6392,  0.6235,  0.6000],\n",
       "           [ 0.6314,  0.5765,  0.6549,  ...,  0.6314,  0.5843,  0.5608]],\n",
       " \n",
       "          [[-0.7255, -0.5294,  0.2784,  ..., -0.7098, -0.7098, -0.6941],\n",
       "           [-0.6392, -0.5765, -0.3020,  ..., -0.7020, -0.6863, -0.6863],\n",
       "           [-0.6863, -0.6627, -0.6078,  ..., -0.6392, -0.4196, -0.2157],\n",
       "           ...,\n",
       "           [ 0.4588,  0.3882,  0.3255,  ...,  0.2784,  0.3098,  0.3176],\n",
       "           [ 0.3804,  0.3882,  0.3569,  ...,  0.3490,  0.3412,  0.3255],\n",
       "           [ 0.4118,  0.3412,  0.3961,  ...,  0.3412,  0.3176,  0.3020]],\n",
       " \n",
       "          [[-0.6941, -0.6863, -0.2471,  ..., -0.6627, -0.6471, -0.6000],\n",
       "           [-0.6627, -0.6706, -0.5608,  ..., -0.6627, -0.6314, -0.6078],\n",
       "           [-0.7020, -0.7255, -0.7176,  ..., -0.6078, -0.3804, -0.1608],\n",
       "           ...,\n",
       "           [ 0.5059,  0.3882,  0.3176,  ...,  0.3255,  0.3725,  0.3882],\n",
       "           [ 0.4275,  0.3961,  0.3490,  ...,  0.4039,  0.3961,  0.3882],\n",
       "           [ 0.4667,  0.3569,  0.3882,  ...,  0.3961,  0.3725,  0.3569]]]]),\n",
       " tensor([3, 4, 5, 1])]"
      ]
     },
     "execution_count": 56,
     "metadata": {},
     "output_type": "execute_result"
    }
   ],
   "source": []
  },
  {
   "cell_type": "code",
   "execution_count": 42,
   "metadata": {},
   "outputs": [],
   "source": [
    "nptran = np.transpose(npimg, (1,2,0))"
   ]
  },
  {
   "cell_type": "code",
   "execution_count": 54,
   "metadata": {},
   "outputs": [
    {
     "data": {
      "text/plain": [
       "(32, 32, 3)"
      ]
     },
     "execution_count": 54,
     "metadata": {},
     "output_type": "execute_result"
    }
   ],
   "source": [
    "nptran.shape"
   ]
  },
  {
   "cell_type": "code",
   "execution_count": null,
   "metadata": {},
   "outputs": [],
   "source": []
  },
  {
   "cell_type": "code",
   "execution_count": null,
   "metadata": {},
   "outputs": [],
   "source": []
  },
  {
   "cell_type": "code",
   "execution_count": null,
   "metadata": {},
   "outputs": [],
   "source": []
  }
 ],
 "metadata": {
  "kernelspec": {
   "display_name": "Python 3",
   "language": "python",
   "name": "python3"
  },
  "language_info": {
   "codemirror_mode": {
    "name": "ipython",
    "version": 3
   },
   "file_extension": ".py",
   "mimetype": "text/x-python",
   "name": "python",
   "nbconvert_exporter": "python",
   "pygments_lexer": "ipython3",
   "version": "3.6.2"
  },
  "varInspector": {
   "cols": {
    "lenName": 16,
    "lenType": 16,
    "lenVar": 40
   },
   "kernels_config": {
    "python": {
     "delete_cmd_postfix": "",
     "delete_cmd_prefix": "del ",
     "library": "var_list.py",
     "varRefreshCmd": "print(var_dic_list())"
    },
    "r": {
     "delete_cmd_postfix": ") ",
     "delete_cmd_prefix": "rm(",
     "library": "var_list.r",
     "varRefreshCmd": "cat(var_dic_list()) "
    }
   },
   "types_to_exclude": [
    "module",
    "function",
    "builtin_function_or_method",
    "instance",
    "_Feature"
   ],
   "window_display": false
  }
 },
 "nbformat": 4,
 "nbformat_minor": 2
}
