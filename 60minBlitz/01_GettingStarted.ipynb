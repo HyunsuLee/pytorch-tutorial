{
 "cells": [
  {
   "cell_type": "markdown",
   "metadata": {},
   "source": [
    "# pytorch notebook\n",
    "\n",
    "from [official website](https://pytorch.org/tutorials/) of pytorch\n",
    "\n",
    "## Getting started\n",
    "\n",
    "\n",
    "\n"
   ]
  },
  {
   "cell_type": "code",
   "execution_count": 1,
   "metadata": {},
   "outputs": [],
   "source": [
    "from __future__ import print_function\n",
    "import torch"
   ]
  },
  {
   "cell_type": "code",
   "execution_count": 2,
   "metadata": {},
   "outputs": [
    {
     "name": "stdout",
     "output_type": "stream",
     "text": [
      "tensor([[ 1.1750e-32,  4.8130e-38,  4.7224e-43],\n",
      "        [ 0.0000e+00, -3.6906e+10,  4.5607e-41],\n",
      "        [-3.6906e+10,  4.5607e-41,  1.2035e-38],\n",
      "        [ 4.8533e-32,  1.5488e+04,  7.5203e-31],\n",
      "        [ 4.8544e-32,  4.8125e-38,  2.7982e-36]])\n"
     ]
    }
   ],
   "source": [
    "x = torch.empty(5,3) # torch tensor similar with numpy array\n",
    "print(x)"
   ]
  },
  {
   "cell_type": "code",
   "execution_count": 3,
   "metadata": {},
   "outputs": [
    {
     "name": "stdout",
     "output_type": "stream",
     "text": [
      "tensor([[0.9972, 0.4125, 0.9009],\n",
      "        [0.7122, 0.1974, 0.1489],\n",
      "        [0.6706, 0.5073, 0.2350],\n",
      "        [0.9852, 0.5019, 0.8170],\n",
      "        [0.3965, 0.8435, 0.4221]])\n"
     ]
    }
   ],
   "source": [
    "x = torch.rand(5, 3) # random number array\n",
    "print(x)"
   ]
  },
  {
   "cell_type": "code",
   "execution_count": 4,
   "metadata": {},
   "outputs": [
    {
     "name": "stdout",
     "output_type": "stream",
     "text": [
      "tensor([5.5000, 3.0000])\n"
     ]
    }
   ],
   "source": [
    "x = torch.tensor([5.5, 3])\n",
    "print(x)"
   ]
  },
  {
   "cell_type": "code",
   "execution_count": 5,
   "metadata": {},
   "outputs": [
    {
     "name": "stdout",
     "output_type": "stream",
     "text": [
      "tensor([[1., 1., 1.],\n",
      "        [1., 1., 1.],\n",
      "        [1., 1., 1.],\n",
      "        [1., 1., 1.],\n",
      "        [1., 1., 1.]], dtype=torch.float64)\n"
     ]
    }
   ],
   "source": [
    "x = x.new_ones(5, 3, dtype = torch.double)\n",
    "print(x)"
   ]
  },
  {
   "cell_type": "code",
   "execution_count": 10,
   "metadata": {},
   "outputs": [
    {
     "name": "stdout",
     "output_type": "stream",
     "text": [
      "tensor([[-2.2456,  1.1525,  0.7621],\n",
      "        [-1.1239,  2.4926, -0.1461],\n",
      "        [-1.1571, -1.2934, -1.2271],\n",
      "        [-1.0064, -0.5615, -0.2114],\n",
      "        [-0.2363,  1.1813,  0.9357]])\n"
     ]
    }
   ],
   "source": [
    "x = torch.randn_like(x, dtype=torch.float)\n",
    "print(x)"
   ]
  },
  {
   "cell_type": "code",
   "execution_count": 11,
   "metadata": {},
   "outputs": [
    {
     "name": "stdout",
     "output_type": "stream",
     "text": [
      "torch.Size([5, 3])\n"
     ]
    }
   ],
   "source": [
    "print(x.size())"
   ]
  },
  {
   "cell_type": "code",
   "execution_count": 12,
   "metadata": {},
   "outputs": [
    {
     "name": "stdout",
     "output_type": "stream",
     "text": [
      "tensor([[-1.6505,  2.0032,  1.1016],\n",
      "        [-0.8875,  3.4698,  0.2522],\n",
      "        [-1.1027, -0.9055, -0.3426],\n",
      "        [-0.3057, -0.4643,  0.6645],\n",
      "        [ 0.2218,  1.6190,  1.8211]])\n"
     ]
    }
   ],
   "source": [
    "y = torch.rand(5, 3)\n",
    "print(x + y)"
   ]
  },
  {
   "cell_type": "code",
   "execution_count": 14,
   "metadata": {},
   "outputs": [],
   "source": [
    "z = x + y"
   ]
  },
  {
   "cell_type": "code",
   "execution_count": 18,
   "metadata": {},
   "outputs": [
    {
     "name": "stdout",
     "output_type": "stream",
     "text": [
      "tensor([[-1.6505,  2.0032,  1.1016],\n",
      "        [-0.8875,  3.4698,  0.2522],\n",
      "        [-1.1027, -0.9055, -0.3426],\n",
      "        [-0.3057, -0.4643,  0.6645],\n",
      "        [ 0.2218,  1.6190,  1.8211]])\n"
     ]
    },
    {
     "data": {
      "text/plain": [
       "torch.Size([5, 3])"
      ]
     },
     "execution_count": 18,
     "metadata": {},
     "output_type": "execute_result"
    }
   ],
   "source": [
    "print(z)\n",
    "z.size()"
   ]
  },
  {
   "cell_type": "code",
   "execution_count": 20,
   "metadata": {},
   "outputs": [
    {
     "name": "stdout",
     "output_type": "stream",
     "text": [
      "tensor([[-1.6505,  2.0032,  1.1016],\n",
      "        [-0.8875,  3.4698,  0.2522],\n",
      "        [-1.1027, -0.9055, -0.3426],\n",
      "        [-0.3057, -0.4643,  0.6645],\n",
      "        [ 0.2218,  1.6190,  1.8211]])\n"
     ]
    }
   ],
   "source": [
    "print(torch.add(x, y)) "
   ]
  },
  {
   "cell_type": "code",
   "execution_count": 21,
   "metadata": {},
   "outputs": [
    {
     "name": "stdout",
     "output_type": "stream",
     "text": [
      "tensor([[-1.6505,  2.0032,  1.1016],\n",
      "        [-0.8875,  3.4698,  0.2522],\n",
      "        [-1.1027, -0.9055, -0.3426],\n",
      "        [-0.3057, -0.4643,  0.6645],\n",
      "        [ 0.2218,  1.6190,  1.8211]])\n"
     ]
    }
   ],
   "source": [
    "y.add_(x) # torch tensor can be added up by \"+\" or .add class function, using .add_ in-place addiction\n",
    "print(y)  # if you using any class function with post-fix \"_\", it operate as in-place function which mean it will change original data."
   ]
  },
  {
   "cell_type": "code",
   "execution_count": 25,
   "metadata": {},
   "outputs": [
    {
     "name": "stdout",
     "output_type": "stream",
     "text": [
      "tensor([-2.2456, -1.1239, -1.1571, -1.0064, -0.2363])\n"
     ]
    }
   ],
   "source": [
    "print(x[:, 0])"
   ]
  },
  {
   "cell_type": "code",
   "execution_count": 24,
   "metadata": {},
   "outputs": [
    {
     "name": "stdout",
     "output_type": "stream",
     "text": [
      "tensor([-2.2456,  1.1525,  0.7621])\n"
     ]
    }
   ],
   "source": [
    "print(x[0, :])"
   ]
  },
  {
   "cell_type": "code",
   "execution_count": 26,
   "metadata": {},
   "outputs": [
    {
     "name": "stdout",
     "output_type": "stream",
     "text": [
      "torch.Size([4, 4]) torch.Size([16]) torch.Size([2, 8])\n"
     ]
    }
   ],
   "source": [
    "x = torch.randn(4,4)\n",
    "y = x.view(16)\n",
    "z = x.view(-1, 8)\n",
    "print(x.size(), y.size(), z.size())"
   ]
  },
  {
   "cell_type": "code",
   "execution_count": 32,
   "metadata": {},
   "outputs": [
    {
     "data": {
      "text/plain": [
       "tensor([[-0.4509, -1.1769,  1.1374,  1.2477],\n",
       "        [ 0.2567,  1.1684, -0.4885, -0.1104],\n",
       "        [ 0.6069, -0.1305, -0.4458,  0.1145],\n",
       "        [ 0.2869,  0.8131,  2.0107, -1.1139]])"
      ]
     },
     "execution_count": 32,
     "metadata": {},
     "output_type": "execute_result"
    }
   ],
   "source": [
    "x"
   ]
  },
  {
   "cell_type": "code",
   "execution_count": 33,
   "metadata": {},
   "outputs": [
    {
     "data": {
      "text/plain": [
       "tensor([-0.4509, -1.1769,  1.1374,  1.2477,  0.2567,  1.1684, -0.4885, -0.1104,\n",
       "         0.6069, -0.1305, -0.4458,  0.1145,  0.2869,  0.8131,  2.0107, -1.1139])"
      ]
     },
     "execution_count": 33,
     "metadata": {},
     "output_type": "execute_result"
    }
   ],
   "source": [
    "x.view(16)"
   ]
  },
  {
   "cell_type": "code",
   "execution_count": 35,
   "metadata": {},
   "outputs": [
    {
     "data": {
      "text/plain": [
       "tensor([[-0.4509, -1.1769,  1.1374,  1.2477,  0.2567,  1.1684, -0.4885, -0.1104],\n",
       "        [ 0.6069, -0.1305, -0.4458,  0.1145,  0.2869,  0.8131,  2.0107, -1.1139]])"
      ]
     },
     "execution_count": 35,
     "metadata": {},
     "output_type": "execute_result"
    }
   ],
   "source": [
    "x.view(2, 8)"
   ]
  },
  {
   "cell_type": "code",
   "execution_count": 40,
   "metadata": {},
   "outputs": [
    {
     "data": {
      "text/plain": [
       "tensor([[-0.4509, -1.1769],\n",
       "        [ 1.1374,  1.2477],\n",
       "        [ 0.2567,  1.1684],\n",
       "        [-0.4885, -0.1104],\n",
       "        [ 0.6069, -0.1305],\n",
       "        [-0.4458,  0.1145],\n",
       "        [ 0.2869,  0.8131],\n",
       "        [ 2.0107, -1.1139]])"
      ]
     },
     "execution_count": 40,
     "metadata": {},
     "output_type": "execute_result"
    }
   ],
   "source": [
    "x.view(-1, 2) # -1 is inferred from other dimensions, if you want fix one dimension and change other dimension accordingly, use this method."
   ]
  },
  {
   "cell_type": "code",
   "execution_count": 42,
   "metadata": {},
   "outputs": [
    {
     "name": "stdout",
     "output_type": "stream",
     "text": [
      "tensor([-1.4302])\n",
      "-1.4301811456680298\n"
     ]
    }
   ],
   "source": [
    "x = torch.randn(1)\n",
    "print(x)\n",
    "print(x.item())"
   ]
  },
  {
   "cell_type": "markdown",
   "metadata": {},
   "source": [
    "### Numpy bridge\n",
    "* pytorch tensor can be easily changed to numpy array"
   ]
  },
  {
   "cell_type": "code",
   "execution_count": 43,
   "metadata": {},
   "outputs": [
    {
     "name": "stdout",
     "output_type": "stream",
     "text": [
      "tensor([1., 1., 1., 1., 1.])\n"
     ]
    }
   ],
   "source": [
    "a = torch.ones(5)\n",
    "print(a)"
   ]
  },
  {
   "cell_type": "code",
   "execution_count": 44,
   "metadata": {},
   "outputs": [
    {
     "name": "stdout",
     "output_type": "stream",
     "text": [
      "[ 1.  1.  1.  1.  1.]\n"
     ]
    }
   ],
   "source": [
    "b = a.numpy()\n",
    "print(b)"
   ]
  },
  {
   "cell_type": "code",
   "execution_count": 45,
   "metadata": {},
   "outputs": [
    {
     "name": "stdout",
     "output_type": "stream",
     "text": [
      "tensor([2., 2., 2., 2., 2.])\n",
      "[ 2.  2.  2.  2.  2.]\n"
     ]
    }
   ],
   "source": [
    "a.add_(1)\n",
    "print(a)\n",
    "print(b) # numpy array and torch tensor sharing memory allocation"
   ]
  },
  {
   "cell_type": "code",
   "execution_count": 46,
   "metadata": {},
   "outputs": [
    {
     "name": "stdout",
     "output_type": "stream",
     "text": [
      "[ 2.  2.  2.  2.  2.]\n",
      "tensor([2., 2., 2., 2., 2.], dtype=torch.float64)\n"
     ]
    }
   ],
   "source": [
    "import numpy as np\n",
    "a = np.ones(5)\n",
    "b = torch.from_numpy(a)\n",
    "np.add(a, 1, out=a)\n",
    "print(a)\n",
    "print(b)"
   ]
  },
  {
   "cell_type": "code",
   "execution_count": 47,
   "metadata": {},
   "outputs": [
    {
     "name": "stdout",
     "output_type": "stream",
     "text": [
      "tensor([-0.4302], device='cuda:0')\n",
      "tensor([-0.4302], dtype=torch.float64)\n"
     ]
    }
   ],
   "source": [
    "if torch.cuda.is_available():\n",
    "    device = torch.device(\"cuda\")          # a CUDA device object\n",
    "    y = torch.ones_like(x, device=device)  # directly create a tensor on GPU\n",
    "    x = x.to(device)                       # or just use strings ``.to(\"cuda\")``\n",
    "    z = x + y\n",
    "    print(z)\n",
    "    print(z.to(\"cpu\", torch.double))"
   ]
  },
  {
   "cell_type": "code",
   "execution_count": null,
   "metadata": {},
   "outputs": [],
   "source": []
  }
 ],
 "metadata": {
  "kernelspec": {
   "display_name": "Python 3",
   "language": "python",
   "name": "python3"
  },
  "language_info": {
   "codemirror_mode": {
    "name": "ipython",
    "version": 3
   },
   "file_extension": ".py",
   "mimetype": "text/x-python",
   "name": "python",
   "nbconvert_exporter": "python",
   "pygments_lexer": "ipython3",
   "version": "3.6.2"
  }
 },
 "nbformat": 4,
 "nbformat_minor": 2
}
